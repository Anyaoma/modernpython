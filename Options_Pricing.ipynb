{
  "nbformat": 4,
  "nbformat_minor": 0,
  "metadata": {
    "colab": {
      "provenance": [],
      "authorship_tag": "ABX9TyM9B0uLgC7+AcXGMKSX3L4A",
      "include_colab_link": true
    },
    "kernelspec": {
      "name": "python3",
      "display_name": "Python 3"
    },
    "language_info": {
      "name": "python"
    }
  },
  "cells": [
    {
      "cell_type": "markdown",
      "metadata": {
        "id": "view-in-github",
        "colab_type": "text"
      },
      "source": [
        "<a href=\"https://colab.research.google.com/github/Anyaoma/modernpython/blob/master/Options_Pricing.ipynb\" target=\"_parent\"><img src=\"https://colab.research.google.com/assets/colab-badge.svg\" alt=\"Open In Colab\"/></a>"
      ]
    },
    {
      "cell_type": "markdown",
      "source": [
        "# EUROPEAN AND AMERICAN OPTION PRICING UNDER A TRINOMIAL TREE"
      ],
      "metadata": {
        "id": "5rCCa3_UJd_q"
      }
    },
    {
      "cell_type": "code",
      "execution_count": 1,
      "metadata": {
        "id": "mtIxQkvcVkQ1"
      },
      "outputs": [],
      "source": [
        "import numpy as np"
      ]
    },
    {
      "cell_type": "markdown",
      "source": [
        "# European Options Pricing Using The Trinomial Tree"
      ],
      "metadata": {
        "id": "s2xNZEolLKSN"
      }
    },
    {
      "cell_type": "code",
      "source": [
        "class TrinomialModel():\n",
        "  def __init__(self,s0, rf, sigma,maturity):\n",
        "    self.__rf = rf\n",
        "    self.__s0 = s0\n",
        "    self.__sigma = sigma\n",
        "    self.__T = maturity\n",
        "\n",
        "\n",
        "  def __up_and_down_factor(self,up =None):\n",
        "    if up == None:\n",
        "      up = np.exp(self.__sigma * np.sqrt(2*self.__h))\n",
        "\n",
        "    assert up > 0.0 , f'This number {up} should be non negative'\n",
        "\n",
        "    down = 1/up\n",
        "\n",
        "    assert down < up\n",
        "\n",
        "    self.__up = up\n",
        "    self.__down = down\n",
        "\n",
        "  def __risk_n_probs(self):\n",
        "    self.__pu = ((np.exp(self.__rf * self.__h / 2)\n",
        "    - np.exp(- self.__sigma * np.sqrt(self.__h / 2)))\n",
        "\n",
        "                 /\n",
        "\n",
        "    (np.exp(self.__sigma * np.sqrt(self.__h / 2)) -\n",
        "    np.exp(-self.__sigma * np.sqrt(self.__h/2))))**2\n",
        "\n",
        "    self.__pd = (\n",
        "            (\n",
        "                -np.exp(self.__rf * self.__h / 2)\n",
        "                + np.exp(self.__sigma * np.sqrt(self.__h / 2))\n",
        "            )\n",
        "            / (\n",
        "                np.exp(self.__sigma * np.sqrt(self.__h / 2))\n",
        "                - np.exp(-self.__sigma * np.sqrt(self.__h / 2))\n",
        "            )\n",
        "        ) ** 2\n",
        "\n",
        "    self.__pm = 1- self.__pu - self.__pd\n",
        "\n",
        "    assert 0 <= self.__pu <= 1.0\n",
        "    assert 0 <= self.__pd <= 1.0\n",
        "    assert 0 <= self.__pm <= 1.0\n",
        "\n",
        "\n",
        "  def __terminal_stock(self, nperiod):\n",
        "    stock_up = self.__up * np.ones(nperiod)\n",
        "    np.cumproduct(stock_up, out=stock_up)\n",
        "\n",
        "    stock_down = self.__down * np.ones(nperiod)\n",
        "    np.cumproduct(stock_down, out=stock_down)\n",
        "\n",
        "    comb_data = np.concatenate((stock_down[::-1],[1.0],stock_up))\n",
        "    comb_data *= self.__s0\n",
        "\n",
        "    return comb_data\n",
        "\n",
        "\n",
        "  def payoff(self, stock_terminal): #it will be used by other methods in this class\n",
        "    raise NotImplementedError\n",
        "\n",
        "  def current_price(self, current_stock, next_opt_payoff):\n",
        "    expected_opt = np.zeros(current_stock.size)\n",
        "    for i in range(expected_opt.size):\n",
        "      p = next_opt_payoff[i] * self.__pd\n",
        "      p += next_opt_payoff[i+1] * self.__pm\n",
        "      p += next_opt_payoff[i+2] * self.__pu\n",
        "\n",
        "      expected_opt[i] = p\n",
        "\n",
        "    return self.__discount * expected_opt\n",
        "\n",
        "  def option_price(self, nperiods, up=None):\n",
        "    assert nperiods > 0\n",
        "    nperiods = int(nperiods)\n",
        "\n",
        "    self.__h = self.__T / nperiods\n",
        "    self.__up_and_down_factor(up)\n",
        "    self.__risk_n_probs()\n",
        "\n",
        "    self.__discount = np.exp(-self.__rf * self.__h)\n",
        "\n",
        "    terminal_s_price = self.__terminal_stock(nperiods)\n",
        "    final_payoff = self.payoff(terminal_s_price)\n",
        "    next_option_payoff = final_payoff\n",
        "\n",
        "    for i in range(1, nperiods + 1):\n",
        "      vec_stock = self.__terminal_stock(nperiods - i)\n",
        "      next_option_payoff = self.current_price(vec_stock, next_option_payoff)\n",
        "\n",
        "    return next_option_payoff[0]\n",
        "\n"
      ],
      "metadata": {
        "id": "Mq6rktmsVr7F"
      },
      "execution_count": 40,
      "outputs": []
    },
    {
      "cell_type": "code",
      "source": [
        "class EuropianTrinomialCall(TrinomialModel):\n",
        "  def __init__(self,s0, rf, sigma,maturity,K):\n",
        "    super(EuropianTrinomialCall, self).__init__(s0, rf, sigma,maturity)\n",
        "    self.__K = K\n",
        "\n",
        "  def payoff(self,s):\n",
        "    return np.maximum(s-self.__K, 0.0)\n",
        "\n",
        ""
      ],
      "metadata": {
        "id": "4RaqbwA5xq10"
      },
      "execution_count": 41,
      "outputs": []
    },
    {
      "cell_type": "code",
      "source": [
        "class EuropianTrinomialPut(TrinomialModel):\n",
        "  def __init__(self,s0, rf, sigma,maturity,K):\n",
        "    super(EuropianTrinomialPut, self).__init__(s0, rf, sigma, maturity)\n",
        "    self.__K = K\n",
        "\n",
        "\n",
        "  def payoff(self,s):\n",
        "    return np.maximum(self.__K  - s, 0.0)"
      ],
      "metadata": {
        "id": "zmNvVw7yysEu"
      },
      "execution_count": 78,
      "outputs": []
    },
    {
      "cell_type": "code",
      "source": [
        "Eur_call = EuropianTrinomialCall(100.0, 0.0, 0.3,1.0,90.0)"
      ],
      "metadata": {
        "id": "eLbCrBaGy4Nd"
      },
      "execution_count": 79,
      "outputs": []
    },
    {
      "cell_type": "code",
      "source": [
        "print(Eur_call.option_price(2))"
      ],
      "metadata": {
        "colab": {
          "base_uri": "https://localhost:8080/"
        },
        "id": "jXFzAVnvzLZd",
        "outputId": "58b27d87-aaa3-48a7-99b6-96d5ec53bec7"
      },
      "execution_count": 80,
      "outputs": [
        {
          "output_type": "stream",
          "name": "stdout",
          "text": [
            "17.50162310051333\n"
          ]
        },
        {
          "output_type": "stream",
          "name": "stderr",
          "text": [
            "<ipython-input-40-e1234b698604>:86: DeprecationWarning: `cumproduct` is deprecated as of NumPy 1.25.0, and will be removed in NumPy 2.0. Please use `cumprod` instead.\n",
            "  terminal_s_price = self.__terminal_stock(nperiods)\n",
            "<ipython-input-40-e1234b698604>:91: DeprecationWarning: `cumproduct` is deprecated as of NumPy 1.25.0, and will be removed in NumPy 2.0. Please use `cumprod` instead.\n",
            "  vec_stock = self.__terminal_stock(nperiods - i)\n"
          ]
        }
      ]
    },
    {
      "cell_type": "code",
      "source": [
        "Eur_put = EuropianTrinomialPut(100.0, 0.0, 0.3,1.0,90.0)"
      ],
      "metadata": {
        "id": "1pKD5iO8INVJ"
      },
      "execution_count": 81,
      "outputs": []
    },
    {
      "cell_type": "code",
      "source": [
        "print(Eur_put.option_price(2))"
      ],
      "metadata": {
        "colab": {
          "base_uri": "https://localhost:8080/"
        },
        "id": "wWcGJS91INml",
        "outputId": "42a980e4-c5bb-4d7b-8da4-d629506802b4"
      },
      "execution_count": 82,
      "outputs": [
        {
          "output_type": "stream",
          "name": "stdout",
          "text": [
            "7.501623100513319\n"
          ]
        },
        {
          "output_type": "stream",
          "name": "stderr",
          "text": [
            "<ipython-input-40-e1234b698604>:86: DeprecationWarning: `cumproduct` is deprecated as of NumPy 1.25.0, and will be removed in NumPy 2.0. Please use `cumprod` instead.\n",
            "  terminal_s_price = self.__terminal_stock(nperiods)\n",
            "<ipython-input-40-e1234b698604>:91: DeprecationWarning: `cumproduct` is deprecated as of NumPy 1.25.0, and will be removed in NumPy 2.0. Please use `cumprod` instead.\n",
            "  vec_stock = self.__terminal_stock(nperiods - i)\n"
          ]
        }
      ]
    },
    {
      "cell_type": "markdown",
      "source": [
        "## put-call parity test"
      ],
      "metadata": {
        "id": "9_ncSi88K59d"
      }
    },
    {
      "cell_type": "code",
      "source": [
        "call = Eur_call.option_price(2)\n",
        "put = Eur_put.option_price(2)"
      ],
      "metadata": {
        "colab": {
          "base_uri": "https://localhost:8080/"
        },
        "id": "weldLegfKUmK",
        "outputId": "e2bb14de-1ea9-42cc-b5a9-de234e9092b5"
      },
      "execution_count": 88,
      "outputs": [
        {
          "output_type": "stream",
          "name": "stderr",
          "text": [
            "<ipython-input-40-e1234b698604>:86: DeprecationWarning: `cumproduct` is deprecated as of NumPy 1.25.0, and will be removed in NumPy 2.0. Please use `cumprod` instead.\n",
            "  terminal_s_price = self.__terminal_stock(nperiods)\n",
            "<ipython-input-40-e1234b698604>:91: DeprecationWarning: `cumproduct` is deprecated as of NumPy 1.25.0, and will be removed in NumPy 2.0. Please use `cumprod` instead.\n",
            "  vec_stock = self.__terminal_stock(nperiods - i)\n"
          ]
        }
      ]
    },
    {
      "cell_type": "code",
      "source": [
        "#put-call parity\n",
        "round(call,2) + 90*np.exp(-0.0*1) == 100 + round(put,2)"
      ],
      "metadata": {
        "colab": {
          "base_uri": "https://localhost:8080/"
        },
        "id": "Fhe6rORPJBlL",
        "outputId": "955a3631-f96a-4f28-83b2-5a6fe099b0a9"
      },
      "execution_count": 90,
      "outputs": [
        {
          "output_type": "execute_result",
          "data": {
            "text/plain": [
              "True"
            ]
          },
          "metadata": {},
          "execution_count": 90
        }
      ]
    },
    {
      "cell_type": "markdown",
      "source": [],
      "metadata": {
        "id": "mXLjBgv9LAzE"
      }
    },
    {
      "cell_type": "markdown",
      "source": [
        "# American Options pricing using the Trinomial Tree"
      ],
      "metadata": {
        "id": "ABcX30dZLBUU"
      }
    },
    {
      "cell_type": "code",
      "source": [],
      "metadata": {
        "id": "y_k0wtnqJBn9"
      },
      "execution_count": null,
      "outputs": []
    },
    {
      "cell_type": "code",
      "source": [
        "class AmericanTrinomialModel():\n",
        "  def __init__(self,s0, rf, sigma,maturity,K):\n",
        "    self.__K = K\n",
        "    self.__rf = rf\n",
        "    self.__s0 = s0\n",
        "    self.__sigma = sigma\n",
        "    self.__T = maturity\n",
        "\n",
        "\n",
        "  def __up_and_down_factor(self,up =None):\n",
        "    if up == None:\n",
        "      up = np.exp(self.__sigma * np.sqrt(2*self.__h))\n",
        "\n",
        "    assert up > 0.0 , f'This number {up} should be non negative'\n",
        "\n",
        "    down = 1/up\n",
        "\n",
        "    assert down < up\n",
        "\n",
        "    self.__up = up\n",
        "    self.__down = down\n",
        "\n",
        "  def __risk_n_probs(self):\n",
        "    self.__pu = ((np.exp(self.__rf * self.__h / 2)\n",
        "    - np.exp(- self.__sigma * np.sqrt(self.__h / 2)))\n",
        "\n",
        "                 /\n",
        "\n",
        "    (np.exp(self.__sigma * np.sqrt(self.__h / 2)) -\n",
        "    np.exp(-self.__sigma * np.sqrt(self.__h/2))))**2\n",
        "\n",
        "    self.__pd = (\n",
        "            (\n",
        "                -np.exp(self.__rf * self.__h / 2)\n",
        "                + np.exp(self.__sigma * np.sqrt(self.__h / 2))\n",
        "            )\n",
        "            / (\n",
        "                np.exp(self.__sigma * np.sqrt(self.__h / 2))\n",
        "                - np.exp(-self.__sigma * np.sqrt(self.__h / 2))\n",
        "            )\n",
        "        ) ** 2\n",
        "\n",
        "    self.__pm = 1- self.__pu - self.__pd\n",
        "\n",
        "    assert 0 <= self.__pu <= 1.0\n",
        "    assert 0 <= self.__pd <= 1.0\n",
        "    assert 0 <= self.__pm <= 1.0\n",
        "\n",
        "\n",
        "  def __terminal_stock(self, nperiod):\n",
        "    stock_up = self.__up * np.ones(nperiod)\n",
        "    np.cumproduct(stock_up, out=stock_up)\n",
        "\n",
        "    stock_down = self.__down * np.ones(nperiod)\n",
        "    np.cumproduct(stock_down, out=stock_down)\n",
        "\n",
        "    comb_data = np.concatenate((stock_down[::-1],[1.0],stock_up))\n",
        "    comb_data *= self.__s0\n",
        "\n",
        "    return comb_data\n",
        "\n",
        "\n",
        "  def payoff(self, stock_terminal): #it will be used by other methods in this class\n",
        "    raise NotImplementedError\n",
        "\n",
        "  def current_price(self, current_stock, next_opt_payoff):\n",
        "    expected_opt = np.zeros(current_stock.size)\n",
        "    for i in range(expected_opt.size):\n",
        "      p = next_opt_payoff[i] * self.__pd\n",
        "      p += next_opt_payoff[i+1] * self.__pm\n",
        "      p += next_opt_payoff[i+2] * self.__pu\n",
        "\n",
        "      expected_opt[i] = np.maximum(p,np.maximum((current_stock[i] - self.__K),0.0) )\n",
        "\n",
        "    return self.__discount * expected_opt\n",
        "\n",
        "  def option_price(self, nperiods, up=None):\n",
        "    assert nperiods > 0\n",
        "    nperiods = int(nperiods)\n",
        "\n",
        "    self.__h = self.__T / nperiods\n",
        "    self.__up_and_down_factor(up)\n",
        "    self.__risk_n_probs()\n",
        "\n",
        "    self.__discount = np.exp(-self.__rf * self.__h)\n",
        "\n",
        "    terminal_s_price = self.__terminal_stock(nperiods)\n",
        "    final_payoff = self.payoff(terminal_s_price)\n",
        "    next_option_payoff = final_payoff\n",
        "\n",
        "    for i in range(1, nperiods + 1):\n",
        "      vec_stock = self.__terminal_stock(nperiods - i)\n",
        "      next_option_payoff = self.current_price(vec_stock, next_option_payoff)\n",
        "\n",
        "    return next_option_payoff[0]\n",
        ""
      ],
      "metadata": {
        "id": "A62V-9wV2Gm4"
      },
      "execution_count": 56,
      "outputs": []
    },
    {
      "cell_type": "code",
      "source": [
        "class AmericanTrinomialCall(AmericanTrinomialModel):\n",
        "  def __init__(self,s0, rf, sigma,maturity,K):\n",
        "    super(AmericanTrinomialCall, self).__init__(s0, rf, sigma,maturity,K)\n",
        "    self.__K = K\n",
        "\n",
        "  def payoff(self,s):\n",
        "    return np.maximum(s-self.__K, 0.0)\n"
      ],
      "metadata": {
        "id": "TnfcSAQr8TIo"
      },
      "execution_count": 62,
      "outputs": []
    },
    {
      "cell_type": "code",
      "source": [
        "Amer_call = AmericanTrinomialCall(100.0, 0.0, 0.3,1.0,90.0)"
      ],
      "metadata": {
        "id": "Erzg6QRDCXxZ"
      },
      "execution_count": 83,
      "outputs": []
    },
    {
      "cell_type": "code",
      "source": [
        "print(Amer_call.option_price(2))"
      ],
      "metadata": {
        "colab": {
          "base_uri": "https://localhost:8080/"
        },
        "id": "IfHhQA0uCjXg",
        "outputId": "51ab6957-dae1-4fa9-ee95-7da238369946"
      },
      "execution_count": 84,
      "outputs": [
        {
          "output_type": "stream",
          "name": "stdout",
          "text": [
            "17.50162310051333\n"
          ]
        },
        {
          "output_type": "stream",
          "name": "stderr",
          "text": [
            "<ipython-input-56-b2b0c7a4abca>:87: DeprecationWarning: `cumproduct` is deprecated as of NumPy 1.25.0, and will be removed in NumPy 2.0. Please use `cumprod` instead.\n",
            "  terminal_s_price = self.__terminal_stock(nperiods)\n",
            "<ipython-input-56-b2b0c7a4abca>:92: DeprecationWarning: `cumproduct` is deprecated as of NumPy 1.25.0, and will be removed in NumPy 2.0. Please use `cumprod` instead.\n",
            "  vec_stock = self.__terminal_stock(nperiods - i)\n"
          ]
        }
      ]
    },
    {
      "cell_type": "code",
      "source": [
        "class AmericanTrinomialPut(AmericanTrinomialModel):\n",
        "  def __init__(self,s0, rf, sigma,maturity,K):\n",
        "    super(AmericanTrinomialPut, self).__init__(s0, rf, sigma, maturity,K)\n",
        "    self.__K = K\n",
        "\n",
        "  def payoff(self,s):\n",
        "    return np.maximum(self.__K  - s, 0.0)"
      ],
      "metadata": {
        "id": "AeL54YQ5Cvi1"
      },
      "execution_count": 85,
      "outputs": []
    },
    {
      "cell_type": "code",
      "source": [
        "Amer_put = AmericanTrinomialPut(100.0, 0.0, 0.3,1.0,90.0)"
      ],
      "metadata": {
        "id": "YFIIQi2QE2Kl"
      },
      "execution_count": 86,
      "outputs": []
    },
    {
      "cell_type": "code",
      "source": [
        "print(Amer_put.option_price(2))"
      ],
      "metadata": {
        "colab": {
          "base_uri": "https://localhost:8080/"
        },
        "id": "FwAqIjy0E-xK",
        "outputId": "20663071-9fd4-4cb7-da5b-0b750a318ed2"
      },
      "execution_count": 87,
      "outputs": [
        {
          "output_type": "stream",
          "name": "stdout",
          "text": [
            "19.813336025386302\n"
          ]
        },
        {
          "output_type": "stream",
          "name": "stderr",
          "text": [
            "<ipython-input-56-b2b0c7a4abca>:87: DeprecationWarning: `cumproduct` is deprecated as of NumPy 1.25.0, and will be removed in NumPy 2.0. Please use `cumprod` instead.\n",
            "  terminal_s_price = self.__terminal_stock(nperiods)\n",
            "<ipython-input-56-b2b0c7a4abca>:92: DeprecationWarning: `cumproduct` is deprecated as of NumPy 1.25.0, and will be removed in NumPy 2.0. Please use `cumprod` instead.\n",
            "  vec_stock = self.__terminal_stock(nperiods - i)\n"
          ]
        }
      ]
    },
    {
      "cell_type": "code",
      "source": [],
      "metadata": {
        "id": "ESE9aGr8GXTT"
      },
      "execution_count": null,
      "outputs": []
    }
  ]
}