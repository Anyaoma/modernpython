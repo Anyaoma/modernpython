{
  "cells": [
    {
      "cell_type": "markdown",
      "metadata": {
        "id": "view-in-github",
        "colab_type": "text"
      },
      "source": [
        "<a href=\"https://colab.research.google.com/github/Anyaoma/modernpython/blob/master/Logistic_regression%3B_optimization.ipynb\" target=\"_parent\"><img src=\"https://colab.research.google.com/assets/colab-badge.svg\" alt=\"Open In Colab\"/></a>"
      ]
    },
    {
      "cell_type": "markdown",
      "id": "c7576780",
      "metadata": {
        "id": "c7576780"
      },
      "source": [
        "The return from any investment is a function of the uncertainty or risk that accompanies the investment.\n",
        "\n",
        "An equity investment implies assuming the company's business risk, while a bond investment implies assuming the default risk.\n",
        "\n",
        "Hence, To the extent that specific risk characteristics predict returns, identifying and forecasting the behavior of these risk factors becomes a primary focus when designing an investment strategy."
      ]
    },
    {
      "cell_type": "code",
      "execution_count": null,
      "id": "5d4de759",
      "metadata": {
        "id": "5d4de759"
      },
      "outputs": [],
      "source": [
        "#IMPORT NECESSARY LIBRARIES\n",
        "import numpy as np\n",
        "import pandas as pd\n",
        "import datetime\n",
        "import matplotlib.pyplot as plt\n",
        "#import pandas as pd\n",
        "import pandas_datareader.data as web\n",
        "import seaborn as sns\n",
        "import yfinance as yfin\n",
        "from scipy.stats import spearmanr\n",
        "from scipy.stats import pearsonr\n",
        "\n",
        "yfin.pdr_override()"
      ]
    },
    {
      "cell_type": "code",
      "execution_count": null,
      "id": "f7915be0",
      "metadata": {
        "id": "f7915be0"
      },
      "outputs": [],
      "source": [
        "from sklearn.metrics import accuracy_score\n",
        "from sklearn import linear_model"
      ]
    },
    {
      "cell_type": "code",
      "execution_count": null,
      "id": "2cbc2197",
      "metadata": {
        "id": "2cbc2197"
      },
      "outputs": [],
      "source": [
        "end_date = datetime.date(2023,1,1)\n",
        "start_date = datetime.date(2005,1,1)"
      ]
    },
    {
      "cell_type": "code",
      "execution_count": null,
      "id": "dc6e750d",
      "metadata": {
        "id": "dc6e750d"
      },
      "outputs": [],
      "source": [
        "def load_financial_data(start,end,output_file):\n",
        "    try:\n",
        "        df = pd.read_pickle(output_file)\n",
        "        print('File data found...reading GOOG data')\n",
        "    except FileNotFoundError:\n",
        "        print('File not found...downloading the GOOG data')\n",
        "        df = pd.DataFrame(web.DataReader(['GOOG'], start, end))\n",
        "        df.to_pickle(output_file)\n",
        "\n",
        "    return df\n",
        ""
      ]
    },
    {
      "cell_type": "code",
      "execution_count": null,
      "id": "93538722",
      "metadata": {
        "id": "93538722"
      },
      "outputs": [],
      "source": [
        "# def create_classification_trading_condition(df):\n",
        "#     df['Open-Close'] = df.Open - df.Close\n",
        "#     df['High-Low'] = df.High - df.Low\n",
        "#     lags = 5\n",
        "\n",
        "#     cols = []\n",
        "#     for lag in range(1, lags + 1):\n",
        "#     col = f'lag_{lag}'\n",
        "#     df[col] = df['Close'].shift(lag)\n",
        "#     cols.append(col)\n",
        "\n",
        "#     df = df.dropna()\n",
        "#     X = df[['Open-Close', 'High-Low']]\n",
        "#     Y = np.where(df['Close'].shift(-1) > df['Close'], 1, -1)\n",
        "#     df['y'] = Y\n",
        "\n",
        "#     return (df, X, Y)"
      ]
    },
    {
      "cell_type": "code",
      "execution_count": null,
      "id": "b16985ab",
      "metadata": {
        "id": "b16985ab"
      },
      "outputs": [],
      "source": [
        "def create_classification_trading_condition(df):\n",
        "    df['Open-Close'] = df.Open - df.Close\n",
        "    df['High-Low'] = df.High - df.Low\n",
        "    df['return'] = np.log(df['Close'] / df['Close'].shift(1))\n",
        "    df = df.dropna()\n",
        "    lags = 5\n",
        "\n",
        "    cols = []\n",
        "    for lag in range(1, lags + 1):\n",
        "        col = f'lag_{lag}'\n",
        "        df[col] = df['return'].shift(lag)\n",
        "        cols.append(col)\n",
        "        df.dropna(inplace=True)\n",
        "\n",
        "\n",
        "\n",
        "    X = df[['Open-Close', 'High-Low', 'lag_1', 'lag_2', 'lag_3', 'lag_4', 'lag_5']]\n",
        "    Y = np.where(df['Close'].shift(-1) > df['Close'], 1, -1)\n",
        "    #Y = np.where(df['return']>0, 1, -1)\n",
        "\n",
        "    #Y = df['return']\n",
        "\n",
        "\n",
        "    return (df, X, Y)"
      ]
    },
    {
      "cell_type": "code",
      "execution_count": null,
      "id": "922977e4",
      "metadata": {
        "id": "922977e4"
      },
      "outputs": [],
      "source": [
        "from sklearn.model_selection import train_test_split\n",
        "\n",
        "def create_train_split_group(X, Y, split_ratio=0.8):\n",
        "    return train_test_split(X, Y, shuffle=False, train_size=split_ratio)"
      ]
    },
    {
      "cell_type": "code",
      "execution_count": null,
      "id": "67dcf0b3",
      "metadata": {
        "id": "67dcf0b3"
      },
      "outputs": [],
      "source": [
        "def calculate_return(df, split_value, symbol):\n",
        "    cum_goog_return = df[split_value:]['%s_Returns' % symbol].cumsum() * 100\n",
        "    df['Strategy_Returns'] = df['%s_Returns' % symbol] * df['Predicted_Signal'].shift(1)\n",
        "    return cum_goog_return\n",
        "\n",
        "def calculate_strategy_return(df, split_value, symbol):\n",
        "    cum_strategy_return = df[split_value:]['Strategy_Returns'].cumsum() * 100\n",
        "    return cum_strategy_return\n",
        "\n",
        "#cum_goog_return = calculate_return(goog_data, split_value=len(X_train), symbol='GOOG')\n",
        "#cum_strategy_return = calculate_strategy_return(goog_data, split_value=len(X_train), symbol='GOOG')\n",
        "\n",
        "def plot_chart(cum_symbol_return, cum_strategy_return, symbol):\n",
        "    plt.figure(figsize=(10, 5))\n",
        "    plt.plot(cum_symbol_return, label='%s Returns' % symbol)\n",
        "    plt.plot(cum_strategy_return, label='Strategy Returns')\n",
        "    plt.legend()\n",
        "\n",
        "#plot_chart(cum_goog_return, cum_strategy_return, symbol='GOOG')\n",
        "\n",
        "def sharpe_ratio(symbol_returns, strategy_returns):\n",
        "    strategy_std = strategy_returns.std()\n",
        "    sharpe = (strategy_returns - symbol_returns) / strategy_std\n",
        "    return sharpe.mean()\n",
        "\n",
        "#print(sharpe_ratio(cum_strategy_return, cum_goog_return))"
      ]
    },
    {
      "cell_type": "code",
      "execution_count": null,
      "id": "5fe3dae4",
      "metadata": {
        "id": "5fe3dae4"
      },
      "outputs": [],
      "source": [
        "# raw = pd.read_csv('http://hilpisch.com/pyalgo_eikon_eod_data.csv',index_col=0, parse_dates=True).dropna()\n",
        "# raw"
      ]
    },
    {
      "cell_type": "code",
      "execution_count": null,
      "id": "e6f5b3f1",
      "metadata": {
        "id": "e6f5b3f1"
      },
      "outputs": [],
      "source": [
        "# symbol = 'EUR='\n",
        "\n",
        "# data = pd.DataFrame(raw[symbol])\n",
        "\n",
        "# data.rename(columns={symbol: 'price'}, inplace=True)"
      ]
    },
    {
      "cell_type": "code",
      "execution_count": null,
      "id": "42603ad2",
      "metadata": {
        "id": "42603ad2",
        "outputId": "119ebd72-cc14-428d-8602-c02dce168f54"
      },
      "outputs": [
        {
          "name": "stdout",
          "output_type": "stream",
          "text": [
            "File data found...reading GOOG data\n"
          ]
        }
      ],
      "source": [
        "goog_data = load_financial_data( start_date, end_date, output_file='goog_data_.pkl')"
      ]
    },
    {
      "cell_type": "code",
      "execution_count": null,
      "id": "ac2cc096",
      "metadata": {
        "id": "ac2cc096",
        "outputId": "205f6c3e-38b8-4d00-8733-1ee5b9e3635f"
      },
      "outputs": [
        {
          "name": "stderr",
          "output_type": "stream",
          "text": [
            "C:\\Users\\anyao\\AppData\\Local\\Temp\\ipykernel_32456\\1034879001.py:11: SettingWithCopyWarning: \n",
            "A value is trying to be set on a copy of a slice from a DataFrame.\n",
            "Try using .loc[row_indexer,col_indexer] = value instead\n",
            "\n",
            "See the caveats in the documentation: https://pandas.pydata.org/pandas-docs/stable/user_guide/indexing.html#returning-a-view-versus-a-copy\n",
            "  df[col] = df['return'].shift(lag)\n",
            "C:\\Users\\anyao\\AppData\\Local\\Temp\\ipykernel_32456\\1034879001.py:13: SettingWithCopyWarning: \n",
            "A value is trying to be set on a copy of a slice from a DataFrame\n",
            "\n",
            "See the caveats in the documentation: https://pandas.pydata.org/pandas-docs/stable/user_guide/indexing.html#returning-a-view-versus-a-copy\n",
            "  df.dropna(inplace=True)\n",
            "C:\\Users\\anyao\\AppData\\Local\\Temp\\ipykernel_32456\\1034879001.py:11: SettingWithCopyWarning: \n",
            "A value is trying to be set on a copy of a slice from a DataFrame.\n",
            "Try using .loc[row_indexer,col_indexer] = value instead\n",
            "\n",
            "See the caveats in the documentation: https://pandas.pydata.org/pandas-docs/stable/user_guide/indexing.html#returning-a-view-versus-a-copy\n",
            "  df[col] = df['return'].shift(lag)\n",
            "C:\\Users\\anyao\\AppData\\Local\\Temp\\ipykernel_32456\\1034879001.py:13: SettingWithCopyWarning: \n",
            "A value is trying to be set on a copy of a slice from a DataFrame\n",
            "\n",
            "See the caveats in the documentation: https://pandas.pydata.org/pandas-docs/stable/user_guide/indexing.html#returning-a-view-versus-a-copy\n",
            "  df.dropna(inplace=True)\n",
            "C:\\Users\\anyao\\AppData\\Local\\Temp\\ipykernel_32456\\1034879001.py:11: SettingWithCopyWarning: \n",
            "A value is trying to be set on a copy of a slice from a DataFrame.\n",
            "Try using .loc[row_indexer,col_indexer] = value instead\n",
            "\n",
            "See the caveats in the documentation: https://pandas.pydata.org/pandas-docs/stable/user_guide/indexing.html#returning-a-view-versus-a-copy\n",
            "  df[col] = df['return'].shift(lag)\n",
            "C:\\Users\\anyao\\AppData\\Local\\Temp\\ipykernel_32456\\1034879001.py:13: SettingWithCopyWarning: \n",
            "A value is trying to be set on a copy of a slice from a DataFrame\n",
            "\n",
            "See the caveats in the documentation: https://pandas.pydata.org/pandas-docs/stable/user_guide/indexing.html#returning-a-view-versus-a-copy\n",
            "  df.dropna(inplace=True)\n",
            "C:\\Users\\anyao\\AppData\\Local\\Temp\\ipykernel_32456\\1034879001.py:11: SettingWithCopyWarning: \n",
            "A value is trying to be set on a copy of a slice from a DataFrame.\n",
            "Try using .loc[row_indexer,col_indexer] = value instead\n",
            "\n",
            "See the caveats in the documentation: https://pandas.pydata.org/pandas-docs/stable/user_guide/indexing.html#returning-a-view-versus-a-copy\n",
            "  df[col] = df['return'].shift(lag)\n",
            "C:\\Users\\anyao\\AppData\\Local\\Temp\\ipykernel_32456\\1034879001.py:13: SettingWithCopyWarning: \n",
            "A value is trying to be set on a copy of a slice from a DataFrame\n",
            "\n",
            "See the caveats in the documentation: https://pandas.pydata.org/pandas-docs/stable/user_guide/indexing.html#returning-a-view-versus-a-copy\n",
            "  df.dropna(inplace=True)\n",
            "C:\\Users\\anyao\\AppData\\Local\\Temp\\ipykernel_32456\\1034879001.py:11: SettingWithCopyWarning: \n",
            "A value is trying to be set on a copy of a slice from a DataFrame.\n",
            "Try using .loc[row_indexer,col_indexer] = value instead\n",
            "\n",
            "See the caveats in the documentation: https://pandas.pydata.org/pandas-docs/stable/user_guide/indexing.html#returning-a-view-versus-a-copy\n",
            "  df[col] = df['return'].shift(lag)\n",
            "C:\\Users\\anyao\\AppData\\Local\\Temp\\ipykernel_32456\\1034879001.py:13: SettingWithCopyWarning: \n",
            "A value is trying to be set on a copy of a slice from a DataFrame\n",
            "\n",
            "See the caveats in the documentation: https://pandas.pydata.org/pandas-docs/stable/user_guide/indexing.html#returning-a-view-versus-a-copy\n",
            "  df.dropna(inplace=True)\n"
          ]
        }
      ],
      "source": [
        "goog_data, X, Y = create_classification_trading_condition(goog_data)"
      ]
    },
    {
      "cell_type": "code",
      "execution_count": null,
      "id": "b0d024b4",
      "metadata": {
        "id": "b0d024b4",
        "outputId": "c793910c-428d-4c3f-db4b-e5dfe90402ee"
      },
      "outputs": [
        {
          "data": {
            "text/plain": [
              "array([-1,  1,  1, ...,  1, -1, -1])"
            ]
          },
          "execution_count": 70,
          "metadata": {},
          "output_type": "execute_result"
        }
      ],
      "source": [
        "Y"
      ]
    },
    {
      "cell_type": "markdown",
      "id": "02d4b7ca",
      "metadata": {
        "id": "02d4b7ca"
      },
      "source": [
        "The optimal regression parameters illustrate what is typically called the random walk hypothesis. This hypothesis states that stock prices or exchange rates, for example, follow a random walk with the consequence that the best predictor for tomorrow’s price is today’s price. The optimal parameters seem to support such a hypothesis since today’s price almost completely explains the predicted price level for tomorrow. The four other values hardly have any weight assigned."
      ]
    },
    {
      "cell_type": "code",
      "execution_count": null,
      "id": "75af6c33",
      "metadata": {
        "id": "75af6c33"
      },
      "outputs": [],
      "source": [
        "X_train,X_test,Y_train,Y_test=create_train_split_group(X,Y,split_ratio=0.8)"
      ]
    },
    {
      "cell_type": "code",
      "execution_count": null,
      "id": "1021f85a",
      "metadata": {
        "id": "1021f85a",
        "outputId": "90f46be7-93b6-4927-f226-cda9c038373b"
      },
      "outputs": [
        {
          "data": {
            "text/plain": [
              "array([-1,  1,  1, ..., -1, -1,  1])"
            ]
          },
          "execution_count": 72,
          "metadata": {},
          "output_type": "execute_result"
        }
      ],
      "source": [
        "Y_train"
      ]
    },
    {
      "cell_type": "code",
      "execution_count": null,
      "id": "1f5648a8",
      "metadata": {
        "id": "1f5648a8"
      },
      "outputs": [],
      "source": [
        "lm = linear_model.LogisticRegression(C=1e7, solver='lbfgs',\n",
        "                                              multi_class='auto',\n",
        "                                              max_iter=1000)"
      ]
    },
    {
      "cell_type": "code",
      "execution_count": null,
      "id": "0eb29b5f",
      "metadata": {
        "id": "0eb29b5f",
        "outputId": "e60ee0da-3b22-4b27-aece-d64d743aac3a"
      },
      "outputs": [
        {
          "data": {
            "text/html": [
              "<style>#sk-container-id-4 {\n",
              "  /* Definition of color scheme common for light and dark mode */\n",
              "  --sklearn-color-text: black;\n",
              "  --sklearn-color-line: gray;\n",
              "  /* Definition of color scheme for unfitted estimators */\n",
              "  --sklearn-color-unfitted-level-0: #fff5e6;\n",
              "  --sklearn-color-unfitted-level-1: #f6e4d2;\n",
              "  --sklearn-color-unfitted-level-2: #ffe0b3;\n",
              "  --sklearn-color-unfitted-level-3: chocolate;\n",
              "  /* Definition of color scheme for fitted estimators */\n",
              "  --sklearn-color-fitted-level-0: #f0f8ff;\n",
              "  --sklearn-color-fitted-level-1: #d4ebff;\n",
              "  --sklearn-color-fitted-level-2: #b3dbfd;\n",
              "  --sklearn-color-fitted-level-3: cornflowerblue;\n",
              "\n",
              "  /* Specific color for light theme */\n",
              "  --sklearn-color-text-on-default-background: var(--sg-text-color, var(--theme-code-foreground, var(--jp-content-font-color1, black)));\n",
              "  --sklearn-color-background: var(--sg-background-color, var(--theme-background, var(--jp-layout-color0, white)));\n",
              "  --sklearn-color-border-box: var(--sg-text-color, var(--theme-code-foreground, var(--jp-content-font-color1, black)));\n",
              "  --sklearn-color-icon: #696969;\n",
              "\n",
              "  @media (prefers-color-scheme: dark) {\n",
              "    /* Redefinition of color scheme for dark theme */\n",
              "    --sklearn-color-text-on-default-background: var(--sg-text-color, var(--theme-code-foreground, var(--jp-content-font-color1, white)));\n",
              "    --sklearn-color-background: var(--sg-background-color, var(--theme-background, var(--jp-layout-color0, #111)));\n",
              "    --sklearn-color-border-box: var(--sg-text-color, var(--theme-code-foreground, var(--jp-content-font-color1, white)));\n",
              "    --sklearn-color-icon: #878787;\n",
              "  }\n",
              "}\n",
              "\n",
              "#sk-container-id-4 {\n",
              "  color: var(--sklearn-color-text);\n",
              "}\n",
              "\n",
              "#sk-container-id-4 pre {\n",
              "  padding: 0;\n",
              "}\n",
              "\n",
              "#sk-container-id-4 input.sk-hidden--visually {\n",
              "  border: 0;\n",
              "  clip: rect(1px 1px 1px 1px);\n",
              "  clip: rect(1px, 1px, 1px, 1px);\n",
              "  height: 1px;\n",
              "  margin: -1px;\n",
              "  overflow: hidden;\n",
              "  padding: 0;\n",
              "  position: absolute;\n",
              "  width: 1px;\n",
              "}\n",
              "\n",
              "#sk-container-id-4 div.sk-dashed-wrapped {\n",
              "  border: 1px dashed var(--sklearn-color-line);\n",
              "  margin: 0 0.4em 0.5em 0.4em;\n",
              "  box-sizing: border-box;\n",
              "  padding-bottom: 0.4em;\n",
              "  background-color: var(--sklearn-color-background);\n",
              "}\n",
              "\n",
              "#sk-container-id-4 div.sk-container {\n",
              "  /* jupyter's `normalize.less` sets `[hidden] { display: none; }`\n",
              "     but bootstrap.min.css set `[hidden] { display: none !important; }`\n",
              "     so we also need the `!important` here to be able to override the\n",
              "     default hidden behavior on the sphinx rendered scikit-learn.org.\n",
              "     See: https://github.com/scikit-learn/scikit-learn/issues/21755 */\n",
              "  display: inline-block !important;\n",
              "  position: relative;\n",
              "}\n",
              "\n",
              "#sk-container-id-4 div.sk-text-repr-fallback {\n",
              "  display: none;\n",
              "}\n",
              "\n",
              "div.sk-parallel-item,\n",
              "div.sk-serial,\n",
              "div.sk-item {\n",
              "  /* draw centered vertical line to link estimators */\n",
              "  background-image: linear-gradient(var(--sklearn-color-text-on-default-background), var(--sklearn-color-text-on-default-background));\n",
              "  background-size: 2px 100%;\n",
              "  background-repeat: no-repeat;\n",
              "  background-position: center center;\n",
              "}\n",
              "\n",
              "/* Parallel-specific style estimator block */\n",
              "\n",
              "#sk-container-id-4 div.sk-parallel-item::after {\n",
              "  content: \"\";\n",
              "  width: 100%;\n",
              "  border-bottom: 2px solid var(--sklearn-color-text-on-default-background);\n",
              "  flex-grow: 1;\n",
              "}\n",
              "\n",
              "#sk-container-id-4 div.sk-parallel {\n",
              "  display: flex;\n",
              "  align-items: stretch;\n",
              "  justify-content: center;\n",
              "  background-color: var(--sklearn-color-background);\n",
              "  position: relative;\n",
              "}\n",
              "\n",
              "#sk-container-id-4 div.sk-parallel-item {\n",
              "  display: flex;\n",
              "  flex-direction: column;\n",
              "}\n",
              "\n",
              "#sk-container-id-4 div.sk-parallel-item:first-child::after {\n",
              "  align-self: flex-end;\n",
              "  width: 50%;\n",
              "}\n",
              "\n",
              "#sk-container-id-4 div.sk-parallel-item:last-child::after {\n",
              "  align-self: flex-start;\n",
              "  width: 50%;\n",
              "}\n",
              "\n",
              "#sk-container-id-4 div.sk-parallel-item:only-child::after {\n",
              "  width: 0;\n",
              "}\n",
              "\n",
              "/* Serial-specific style estimator block */\n",
              "\n",
              "#sk-container-id-4 div.sk-serial {\n",
              "  display: flex;\n",
              "  flex-direction: column;\n",
              "  align-items: center;\n",
              "  background-color: var(--sklearn-color-background);\n",
              "  padding-right: 1em;\n",
              "  padding-left: 1em;\n",
              "}\n",
              "\n",
              "\n",
              "/* Toggleable style: style used for estimator/Pipeline/ColumnTransformer box that is\n",
              "clickable and can be expanded/collapsed.\n",
              "- Pipeline and ColumnTransformer use this feature and define the default style\n",
              "- Estimators will overwrite some part of the style using the `sk-estimator` class\n",
              "*/\n",
              "\n",
              "/* Pipeline and ColumnTransformer style (default) */\n",
              "\n",
              "#sk-container-id-4 div.sk-toggleable {\n",
              "  /* Default theme specific background. It is overwritten whether we have a\n",
              "  specific estimator or a Pipeline/ColumnTransformer */\n",
              "  background-color: var(--sklearn-color-background);\n",
              "}\n",
              "\n",
              "/* Toggleable label */\n",
              "#sk-container-id-4 label.sk-toggleable__label {\n",
              "  cursor: pointer;\n",
              "  display: block;\n",
              "  width: 100%;\n",
              "  margin-bottom: 0;\n",
              "  padding: 0.5em;\n",
              "  box-sizing: border-box;\n",
              "  text-align: center;\n",
              "}\n",
              "\n",
              "#sk-container-id-4 label.sk-toggleable__label-arrow:before {\n",
              "  /* Arrow on the left of the label */\n",
              "  content: \"▸\";\n",
              "  float: left;\n",
              "  margin-right: 0.25em;\n",
              "  color: var(--sklearn-color-icon);\n",
              "}\n",
              "\n",
              "#sk-container-id-4 label.sk-toggleable__label-arrow:hover:before {\n",
              "  color: var(--sklearn-color-text);\n",
              "}\n",
              "\n",
              "/* Toggleable content - dropdown */\n",
              "\n",
              "#sk-container-id-4 div.sk-toggleable__content {\n",
              "  max-height: 0;\n",
              "  max-width: 0;\n",
              "  overflow: hidden;\n",
              "  text-align: left;\n",
              "  /* unfitted */\n",
              "  background-color: var(--sklearn-color-unfitted-level-0);\n",
              "}\n",
              "\n",
              "#sk-container-id-4 div.sk-toggleable__content.fitted {\n",
              "  /* fitted */\n",
              "  background-color: var(--sklearn-color-fitted-level-0);\n",
              "}\n",
              "\n",
              "#sk-container-id-4 div.sk-toggleable__content pre {\n",
              "  margin: 0.2em;\n",
              "  border-radius: 0.25em;\n",
              "  color: var(--sklearn-color-text);\n",
              "  /* unfitted */\n",
              "  background-color: var(--sklearn-color-unfitted-level-0);\n",
              "}\n",
              "\n",
              "#sk-container-id-4 div.sk-toggleable__content.fitted pre {\n",
              "  /* unfitted */\n",
              "  background-color: var(--sklearn-color-fitted-level-0);\n",
              "}\n",
              "\n",
              "#sk-container-id-4 input.sk-toggleable__control:checked~div.sk-toggleable__content {\n",
              "  /* Expand drop-down */\n",
              "  max-height: 200px;\n",
              "  max-width: 100%;\n",
              "  overflow: auto;\n",
              "}\n",
              "\n",
              "#sk-container-id-4 input.sk-toggleable__control:checked~label.sk-toggleable__label-arrow:before {\n",
              "  content: \"▾\";\n",
              "}\n",
              "\n",
              "/* Pipeline/ColumnTransformer-specific style */\n",
              "\n",
              "#sk-container-id-4 div.sk-label input.sk-toggleable__control:checked~label.sk-toggleable__label {\n",
              "  color: var(--sklearn-color-text);\n",
              "  background-color: var(--sklearn-color-unfitted-level-2);\n",
              "}\n",
              "\n",
              "#sk-container-id-4 div.sk-label.fitted input.sk-toggleable__control:checked~label.sk-toggleable__label {\n",
              "  background-color: var(--sklearn-color-fitted-level-2);\n",
              "}\n",
              "\n",
              "/* Estimator-specific style */\n",
              "\n",
              "/* Colorize estimator box */\n",
              "#sk-container-id-4 div.sk-estimator input.sk-toggleable__control:checked~label.sk-toggleable__label {\n",
              "  /* unfitted */\n",
              "  background-color: var(--sklearn-color-unfitted-level-2);\n",
              "}\n",
              "\n",
              "#sk-container-id-4 div.sk-estimator.fitted input.sk-toggleable__control:checked~label.sk-toggleable__label {\n",
              "  /* fitted */\n",
              "  background-color: var(--sklearn-color-fitted-level-2);\n",
              "}\n",
              "\n",
              "#sk-container-id-4 div.sk-label label.sk-toggleable__label,\n",
              "#sk-container-id-4 div.sk-label label {\n",
              "  /* The background is the default theme color */\n",
              "  color: var(--sklearn-color-text-on-default-background);\n",
              "}\n",
              "\n",
              "/* On hover, darken the color of the background */\n",
              "#sk-container-id-4 div.sk-label:hover label.sk-toggleable__label {\n",
              "  color: var(--sklearn-color-text);\n",
              "  background-color: var(--sklearn-color-unfitted-level-2);\n",
              "}\n",
              "\n",
              "/* Label box, darken color on hover, fitted */\n",
              "#sk-container-id-4 div.sk-label.fitted:hover label.sk-toggleable__label.fitted {\n",
              "  color: var(--sklearn-color-text);\n",
              "  background-color: var(--sklearn-color-fitted-level-2);\n",
              "}\n",
              "\n",
              "/* Estimator label */\n",
              "\n",
              "#sk-container-id-4 div.sk-label label {\n",
              "  font-family: monospace;\n",
              "  font-weight: bold;\n",
              "  display: inline-block;\n",
              "  line-height: 1.2em;\n",
              "}\n",
              "\n",
              "#sk-container-id-4 div.sk-label-container {\n",
              "  text-align: center;\n",
              "}\n",
              "\n",
              "/* Estimator-specific */\n",
              "#sk-container-id-4 div.sk-estimator {\n",
              "  font-family: monospace;\n",
              "  border: 1px dotted var(--sklearn-color-border-box);\n",
              "  border-radius: 0.25em;\n",
              "  box-sizing: border-box;\n",
              "  margin-bottom: 0.5em;\n",
              "  /* unfitted */\n",
              "  background-color: var(--sklearn-color-unfitted-level-0);\n",
              "}\n",
              "\n",
              "#sk-container-id-4 div.sk-estimator.fitted {\n",
              "  /* fitted */\n",
              "  background-color: var(--sklearn-color-fitted-level-0);\n",
              "}\n",
              "\n",
              "/* on hover */\n",
              "#sk-container-id-4 div.sk-estimator:hover {\n",
              "  /* unfitted */\n",
              "  background-color: var(--sklearn-color-unfitted-level-2);\n",
              "}\n",
              "\n",
              "#sk-container-id-4 div.sk-estimator.fitted:hover {\n",
              "  /* fitted */\n",
              "  background-color: var(--sklearn-color-fitted-level-2);\n",
              "}\n",
              "\n",
              "/* Specification for estimator info (e.g. \"i\" and \"?\") */\n",
              "\n",
              "/* Common style for \"i\" and \"?\" */\n",
              "\n",
              ".sk-estimator-doc-link,\n",
              "a:link.sk-estimator-doc-link,\n",
              "a:visited.sk-estimator-doc-link {\n",
              "  float: right;\n",
              "  font-size: smaller;\n",
              "  line-height: 1em;\n",
              "  font-family: monospace;\n",
              "  background-color: var(--sklearn-color-background);\n",
              "  border-radius: 1em;\n",
              "  height: 1em;\n",
              "  width: 1em;\n",
              "  text-decoration: none !important;\n",
              "  margin-left: 1ex;\n",
              "  /* unfitted */\n",
              "  border: var(--sklearn-color-unfitted-level-1) 1pt solid;\n",
              "  color: var(--sklearn-color-unfitted-level-1);\n",
              "}\n",
              "\n",
              ".sk-estimator-doc-link.fitted,\n",
              "a:link.sk-estimator-doc-link.fitted,\n",
              "a:visited.sk-estimator-doc-link.fitted {\n",
              "  /* fitted */\n",
              "  border: var(--sklearn-color-fitted-level-1) 1pt solid;\n",
              "  color: var(--sklearn-color-fitted-level-1);\n",
              "}\n",
              "\n",
              "/* On hover */\n",
              "div.sk-estimator:hover .sk-estimator-doc-link:hover,\n",
              ".sk-estimator-doc-link:hover,\n",
              "div.sk-label-container:hover .sk-estimator-doc-link:hover,\n",
              ".sk-estimator-doc-link:hover {\n",
              "  /* unfitted */\n",
              "  background-color: var(--sklearn-color-unfitted-level-3);\n",
              "  color: var(--sklearn-color-background);\n",
              "  text-decoration: none;\n",
              "}\n",
              "\n",
              "div.sk-estimator.fitted:hover .sk-estimator-doc-link.fitted:hover,\n",
              ".sk-estimator-doc-link.fitted:hover,\n",
              "div.sk-label-container:hover .sk-estimator-doc-link.fitted:hover,\n",
              ".sk-estimator-doc-link.fitted:hover {\n",
              "  /* fitted */\n",
              "  background-color: var(--sklearn-color-fitted-level-3);\n",
              "  color: var(--sklearn-color-background);\n",
              "  text-decoration: none;\n",
              "}\n",
              "\n",
              "/* Span, style for the box shown on hovering the info icon */\n",
              ".sk-estimator-doc-link span {\n",
              "  display: none;\n",
              "  z-index: 9999;\n",
              "  position: relative;\n",
              "  font-weight: normal;\n",
              "  right: .2ex;\n",
              "  padding: .5ex;\n",
              "  margin: .5ex;\n",
              "  width: min-content;\n",
              "  min-width: 20ex;\n",
              "  max-width: 50ex;\n",
              "  color: var(--sklearn-color-text);\n",
              "  box-shadow: 2pt 2pt 4pt #999;\n",
              "  /* unfitted */\n",
              "  background: var(--sklearn-color-unfitted-level-0);\n",
              "  border: .5pt solid var(--sklearn-color-unfitted-level-3);\n",
              "}\n",
              "\n",
              ".sk-estimator-doc-link.fitted span {\n",
              "  /* fitted */\n",
              "  background: var(--sklearn-color-fitted-level-0);\n",
              "  border: var(--sklearn-color-fitted-level-3);\n",
              "}\n",
              "\n",
              ".sk-estimator-doc-link:hover span {\n",
              "  display: block;\n",
              "}\n",
              "\n",
              "/* \"?\"-specific style due to the `<a>` HTML tag */\n",
              "\n",
              "#sk-container-id-4 a.estimator_doc_link {\n",
              "  float: right;\n",
              "  font-size: 1rem;\n",
              "  line-height: 1em;\n",
              "  font-family: monospace;\n",
              "  background-color: var(--sklearn-color-background);\n",
              "  border-radius: 1rem;\n",
              "  height: 1rem;\n",
              "  width: 1rem;\n",
              "  text-decoration: none;\n",
              "  /* unfitted */\n",
              "  color: var(--sklearn-color-unfitted-level-1);\n",
              "  border: var(--sklearn-color-unfitted-level-1) 1pt solid;\n",
              "}\n",
              "\n",
              "#sk-container-id-4 a.estimator_doc_link.fitted {\n",
              "  /* fitted */\n",
              "  border: var(--sklearn-color-fitted-level-1) 1pt solid;\n",
              "  color: var(--sklearn-color-fitted-level-1);\n",
              "}\n",
              "\n",
              "/* On hover */\n",
              "#sk-container-id-4 a.estimator_doc_link:hover {\n",
              "  /* unfitted */\n",
              "  background-color: var(--sklearn-color-unfitted-level-3);\n",
              "  color: var(--sklearn-color-background);\n",
              "  text-decoration: none;\n",
              "}\n",
              "\n",
              "#sk-container-id-4 a.estimator_doc_link.fitted:hover {\n",
              "  /* fitted */\n",
              "  background-color: var(--sklearn-color-fitted-level-3);\n",
              "}\n",
              "</style><div id=\"sk-container-id-4\" class=\"sk-top-container\"><div class=\"sk-text-repr-fallback\"><pre>LogisticRegression(C=10000000.0, max_iter=1000)</pre><b>In a Jupyter environment, please rerun this cell to show the HTML representation or trust the notebook. <br />On GitHub, the HTML representation is unable to render, please try loading this page with nbviewer.org.</b></div><div class=\"sk-container\" hidden><div class=\"sk-item\"><div class=\"sk-estimator fitted sk-toggleable\"><input class=\"sk-toggleable__control sk-hidden--visually\" id=\"sk-estimator-id-4\" type=\"checkbox\" checked><label for=\"sk-estimator-id-4\" class=\"sk-toggleable__label fitted sk-toggleable__label-arrow fitted\">&nbsp;&nbsp;LogisticRegression<a class=\"sk-estimator-doc-link fitted\" rel=\"noreferrer\" target=\"_blank\" href=\"https://scikit-learn.org/1.4/modules/generated/sklearn.linear_model.LogisticRegression.html\">?<span>Documentation for LogisticRegression</span></a><span class=\"sk-estimator-doc-link fitted\">i<span>Fitted</span></span></label><div class=\"sk-toggleable__content fitted\"><pre>LogisticRegression(C=10000000.0, max_iter=1000)</pre></div> </div></div></div></div>"
            ],
            "text/plain": [
              "LogisticRegression(C=10000000.0, max_iter=1000)"
            ]
          },
          "execution_count": 76,
          "metadata": {},
          "output_type": "execute_result"
        }
      ],
      "source": [
        "lm.fit(X_train, Y_train)"
      ]
    },
    {
      "cell_type": "code",
      "execution_count": null,
      "id": "9d65a354",
      "metadata": {
        "id": "9d65a354"
      },
      "outputs": [],
      "source": [
        "accuracy_train = accuracy_score(Y_train, lm.predict(X_train))\n",
        "accuracy_test = accuracy_score(Y_test, lm.predict(X_test))"
      ]
    },
    {
      "cell_type": "code",
      "execution_count": null,
      "id": "618e0125",
      "metadata": {
        "id": "618e0125",
        "outputId": "a1ed207f-b03f-40bc-c3f3-780f46bcc478"
      },
      "outputs": [
        {
          "data": {
            "text/plain": [
              "0.5174418604651163"
            ]
          },
          "execution_count": 79,
          "metadata": {},
          "output_type": "execute_result"
        }
      ],
      "source": [
        "accuracy_train"
      ]
    },
    {
      "cell_type": "code",
      "execution_count": null,
      "id": "ea3de015",
      "metadata": {
        "id": "ea3de015",
        "outputId": "c3781166-2312-4e66-9f70-f095880d7e60"
      },
      "outputs": [
        {
          "data": {
            "text/plain": [
              "0.512735326688815"
            ]
          },
          "execution_count": 80,
          "metadata": {},
          "output_type": "execute_result"
        }
      ],
      "source": [
        "accuracy_test"
      ]
    },
    {
      "cell_type": "code",
      "execution_count": null,
      "id": "cb6f0f8f",
      "metadata": {
        "id": "cb6f0f8f",
        "outputId": "12b7085f-abde-4965-94aa-f8a804fbc512"
      },
      "outputs": [
        {
          "data": {
            "image/png": "[encoded data removed]",
            "text/plain": [
              "<Figure size 1000x500 with 1 Axes>"
            ]
          },
          "metadata": {},
          "output_type": "display_data"
        }
      ],
      "source": [
        "goog_data['Predicted_Signal']=lm.predict(X)\n",
        "goog_data['GOOG_Returns']=np.log(goog_data['Close']/\n",
        "                                goog_data['Close'].shift(1))\n",
        "\n",
        "cum_goog_return=calculate_return(goog_data,split_value=len(X_train),symbol='GOOG')\n",
        "cum_strategy_return= calculate_strategy_return(goog_data,split_value=len(X_train), symbol='GOOG')\n",
        "\n",
        "plot_chart(cum_goog_return, cum_strategy_return,symbol='GOOG')"
      ]
    },
    {
      "cell_type": "code",
      "execution_count": null,
      "id": "224a3ad2",
      "metadata": {
        "id": "224a3ad2",
        "outputId": "a7521764-804c-47c7-a9e4-64467b9dad07"
      },
      "outputs": [
        {
          "data": {
            "text/plain": [
              "0.516500553709856"
            ]
          },
          "execution_count": 82,
          "metadata": {},
          "output_type": "execute_result"
        }
      ],
      "source": [
        "accuracy_all = accuracy_score(Y, lm.predict(X))\n",
        "accuracy_all"
      ]
    },
    {
      "cell_type": "markdown",
      "id": "33135284",
      "metadata": {
        "id": "33135284"
      },
      "source": [
        "# DEEP LEARNING"
      ]
    },
    {
      "cell_type": "code",
      "execution_count": null,
      "id": "4d7b5120",
      "metadata": {
        "id": "4d7b5120",
        "outputId": "80295f15-b3ef-4ae9-ded8-1d0ac1d95244"
      },
      "outputs": [
        {
          "name": "stdout",
          "output_type": "stream",
          "text": [
            "Collecting kerasNote: you may need to restart the kernel to use updated packages.\n"
          ]
        },
        {
          "name": "stderr",
          "output_type": "stream",
          "text": [
            "ERROR: Could not install packages due to an OSError: [Errno 13] Permission denied: 'c:\\\\users\\\\anyao\\\\anaconda3\\\\scripts\\\\pygmentize.exe'\n",
            "Consider using the `--user` option or check the permissions.\n",
            "\n"
          ]
        },
        {
          "name": "stdout",
          "output_type": "stream",
          "text": [
            "\n",
            "  Downloading keras-3.0.4-py3-none-any.whl (1.0 MB)\n",
            "     ---------------------------------------- 1.0/1.0 MB 5.8 MB/s eta 0:00:00\n",
            "Collecting absl-py\n",
            "  Downloading absl_py-2.1.0-py3-none-any.whl (133 kB)\n",
            "     -------------------------------------- 133.7/133.7 kB 7.7 MB/s eta 0:00:00\n",
            "Requirement already satisfied: h5py in c:\\users\\anyao\\anaconda3\\lib\\site-packages (from keras) (3.7.0)\n",
            "Collecting rich\n",
            "  Downloading rich-13.7.0-py3-none-any.whl (240 kB)\n",
            "     -------------------------------------- 240.6/240.6 kB 7.4 MB/s eta 0:00:00\n",
            "Collecting namex\n",
            "  Downloading namex-0.0.7-py3-none-any.whl (5.8 kB)\n",
            "Collecting dm-tree\n",
            "  Downloading dm_tree-0.1.8-cp310-cp310-win_amd64.whl (101 kB)\n",
            "     -------------------------------------- 101.3/101.3 kB 2.9 MB/s eta 0:00:00\n",
            "Requirement already satisfied: numpy in c:\\users\\anyao\\anaconda3\\lib\\site-packages (from keras) (1.23.5)\n",
            "Collecting markdown-it-py>=2.2.0\n",
            "  Downloading markdown_it_py-3.0.0-py3-none-any.whl (87 kB)\n",
            "     ---------------------------------------- 87.5/87.5 kB ? eta 0:00:00\n",
            "Collecting pygments<3.0.0,>=2.13.0\n",
            "  Downloading pygments-2.17.2-py3-none-any.whl (1.2 MB)\n",
            "     ---------------------------------------- 1.2/1.2 MB 12.6 MB/s eta 0:00:00\n",
            "Collecting mdurl~=0.1\n",
            "  Downloading mdurl-0.1.2-py3-none-any.whl (10.0 kB)\n",
            "Installing collected packages: namex, dm-tree, pygments, mdurl, absl-py, markdown-it-py, rich, keras\n",
            "  Attempting uninstall: pygments\n",
            "    Found existing installation: Pygments 2.11.2\n",
            "    Uninstalling Pygments-2.11.2:\n"
          ]
        }
      ],
      "source": [
        "pip install keras"
      ]
    },
    {
      "cell_type": "code",
      "execution_count": null,
      "id": "98d0a23d",
      "metadata": {
        "id": "98d0a23d"
      },
      "outputs": [],
      "source": []
    }
  ],
  "metadata": {
    "kernelspec": {
      "display_name": "Python 3 (ipykernel)",
      "language": "python",
      "name": "python3"
    },
    "language_info": {
      "codemirror_mode": {
        "name": "ipython",
        "version": 3
      },
      "file_extension": ".py",
      "mimetype": "text/x-python",
      "name": "python",
      "nbconvert_exporter": "python",
      "pygments_lexer": "ipython3",
      "version": "3.10.9"
    },
    "colab": {
      "provenance": [],
      "include_colab_link": true
    }
  },
  "nbformat": 4,
  "nbformat_minor": 5
}